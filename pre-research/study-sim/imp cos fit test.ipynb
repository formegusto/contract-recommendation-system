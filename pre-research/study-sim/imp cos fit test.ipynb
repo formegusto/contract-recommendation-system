{
 "cells": [
  {
   "cell_type": "code",
   "execution_count": 32,
   "id": "bbfc5729",
   "metadata": {},
   "outputs": [],
   "source": [
    "import pandas as pd\n",
    "import numpy as np\n",
    "import math as mt\n",
    "from numpy import dot\n",
    "from numpy.linalg import norm\n",
    "from scipy import stats\n",
    "from sklearn.decomposition import TruncatedSVD \n",
    "\n",
    "%matplotlib inline\n",
    "import matplotlib\n",
    "import matplotlib.pyplot as plt\n",
    "import seaborn as sn\n",
    "import IPython\n",
    "import IPython.display\n",
    "\n",
    "sn.set()\n",
    "plt.rcParams['axes.labelsize'] = 14\n",
    "plt.rcParams['xtick.labelsize'] = 12\n",
    "plt.rcParams['ytick.labelsize'] = 12\n",
    "plt.rcParams['figure.figsize'] = (12, 6)\n",
    "plt.rcParams['font.size'] = 12\n",
    "\n",
    "# 한글출력\n",
    "matplotlib.rc('font', family='AppleGothic')  # MacOS\n",
    "# matplotlib.rc('font', family='Malgun Gothic')  # Windows\n",
    "plt.rcParams['axes.unicode_minus'] = False"
   ]
  },
  {
   "cell_type": "code",
   "execution_count": 2,
   "id": "8607b3e2",
   "metadata": {},
   "outputs": [],
   "source": [
    "def euclidean_distance(A, B):\n",
    "    err = 0\n",
    "    length = len(A)\n",
    "    for idx in range(0, length):\n",
    "        tmp = ((A[idx] - B[idx]) ** 2)\n",
    "        err += tmp\n",
    "        \n",
    "    return mt.sqrt(err)\n",
    "\n",
    "def cosine_similarity(A,B):\n",
    "    return dot(A, B) / (norm(A) * norm(B))\n",
    "\n",
    "def sumDiffer(A,B):\n",
    "    length = len(A)\n",
    "    err = 0\n",
    "    for idx in range(0, length):\n",
    "        err += ((A[idx] - B[idx]) ** 2)\n",
    "    return mt.sqrt(err / length)\n",
    "\n",
    "def improved_similarity(A, B, w):\n",
    "    cos_sim = cosine_similarity(A, B)\n",
    "    sum_diff = sumDiffer(A, B)\n",
    "    w **= sum_diff\n",
    "    \n",
    "    return cos_sim * w"
   ]
  },
  {
   "cell_type": "markdown",
   "id": "46b1136a",
   "metadata": {},
   "source": [
    "## an improved collaborative recommendation algorithm based on optimizer user similarity fit test\n",
    "- 랜덤하게 (100, 32) 크기의 행렬 구조 생성 100 looping\n",
    "- 어떠한 벡터를 정해서 해당 벡터에 대한 순위 매기기, sort_values\n",
    "---\n",
    "1. Euclidean Distance\n",
    "    - 거리기반 유사도 측정값을 오름차순 정렬하고, 각 순위 사이의 방향기반(Cosine Similarity) 지수가 표준편차의 n% 를 넘어가면 잘못된 측정으로 Count\n",
    "2. Cosine Similarity\n",
    "    - 방향기반 유사도 측정값을 내림차순 정렬하고, 각 순위 사이의 거리기반(Euclidean Distance) 지수가 표준편차의 n% 를 넘어가면 잘못된 측정으로 Count\n",
    "3. imp cos\n",
    "    - 거리+방향 기반 유사도 측정값을 내림차순 정렬하고, 각 순위 사이의 방향기반과 거리기반 지수가 표준편차의 n%를 넘어가면 잘못된 측정으로 Count"
   ]
  },
  {
   "cell_type": "code",
   "execution_count": 57,
   "id": "3a3ac5b6",
   "metadata": {},
   "outputs": [],
   "source": [
    "def test_func(test_per):\n",
    "    fit_cols = ['execute 거리기반, cos_err', 'execute 방향기반, dis_err', \n",
    "                'execute 거리+방향기반, cos_err',\n",
    "                'execute 거리+방향기반, dis_err']\n",
    "    fit_df = pd.DataFrame(columns=fit_cols)\n",
    "\n",
    "    for test_idx in range(1, 101):\n",
    "        datas = np.round((np.random.rand(101,32) * 500))\n",
    "        cols = ['유클리디안 거리', '코사인 유사도', '향상된 코사인 유사도']\n",
    "        sim_df = pd.DataFrame(columns=cols)\n",
    "\n",
    "        A = datas[0]\n",
    "        B_values = datas[1:]\n",
    "        imp_weight = 0.99\n",
    "\n",
    "        for idx,B in enumerate(B_values):\n",
    "            sim_df.loc[idx] = [\n",
    "                euclidean_distance(A,B),\n",
    "                cosine_similarity(A,B),\n",
    "                improved_similarity(A, B, imp_weight)\n",
    "            ]\n",
    "\n",
    "        euc_std = sim_df['유클리디안 거리'].std()\n",
    "        euc_std_per = euc_std * (test_per / 100)\n",
    "        print(\"유클리디안 거리 표준편차 : {}\\n\".format(euc_std)\n",
    "             +\"유클리디안 거리 표준편차 ({}%) : {}\\n\".format(test_per,euc_std_per))\n",
    "\n",
    "        cos_std = sim_df['코사인 유사도'].std()\n",
    "        cos_std_per = cos_std * (test_per / 100)\n",
    "        print(\"코사인 유사도 표준편차 : {}\\n\".format(cos_std)\n",
    "             +\"코사인 유사도 표준편차 ({}%) : {}\\n\".format(test_per,cos_std_per))\n",
    "\n",
    "\n",
    "\n",
    "        sort_euc_based = sim_df.sort_values(by=['유클리디안 거리'])\n",
    "        sort_cos_based = sim_df.sort_values(by=['코사인 유사도'], ascending=False)\n",
    "        sort_imp_based = sim_df.sort_values(by=['향상된 코사인 유사도'], ascending=False)\n",
    "\n",
    "        count_arr = []\n",
    "\n",
    "        length = len(sort_euc_based)\n",
    "        count = 0\n",
    "        for idx in range(1, length):\n",
    "            err = abs(sort_euc_based.iloc[idx - 1]['코사인 유사도']\n",
    "                     - sort_euc_based.iloc[idx]['코사인 유사도']\n",
    "                     )\n",
    "\n",
    "            if err > cos_std_per:\n",
    "                count += 1\n",
    "\n",
    "        print(\"표준편차를 넘어선 개수 : {}\\n\".format(count))\n",
    "        count_arr.append(count)\n",
    "\n",
    "        length = len(sort_cos_based)\n",
    "        count = 0\n",
    "        for idx in range(1, length):\n",
    "            err = abs(sort_cos_based.iloc[idx - 1]['유클리디안 거리']\n",
    "                     - sort_cos_based.iloc[idx]['유클리디안 거리']\n",
    "                     )\n",
    "\n",
    "            if err > euc_std_per:\n",
    "                count += 1\n",
    "\n",
    "        print(\"표준편차를 넘어선 개수 : {}\\n\".format(count))\n",
    "        count_arr.append(count)\n",
    "\n",
    "        length = len(sort_imp_based)\n",
    "        dis_count = 0\n",
    "        cos_count = 0\n",
    "        for idx in range(1, length):\n",
    "            dis_err = abs(sort_imp_based.iloc[idx - 1]['유클리디안 거리']\n",
    "                     - sort_imp_based.iloc[idx]['유클리디안 거리']\n",
    "                     )\n",
    "            cos_err = abs(sort_imp_based.iloc[idx - 1]['코사인 유사도']\n",
    "                     - sort_imp_based.iloc[idx]['코사인 유사도']\n",
    "                     )\n",
    "\n",
    "            if dis_err > euc_std_per:\n",
    "                dis_count += 1\n",
    "            if cos_err > cos_std_per:\n",
    "                cos_count += 1\n",
    "        count_arr.append(cos_count)\n",
    "        count_arr.append(dis_count)\n",
    "\n",
    "        print(\"표준편차를 넘어선 개수 : {}\".format(dis_count))\n",
    "        print(\"표준편차를 넘어선 개수 : {}\\n\".format(cos_count))\n",
    "\n",
    "        fit_df.loc['test {}'.format(test_idx)] = count_arr\n",
    "\n",
    "        IPython.display.clear_output()\n",
    "    print(\"compare {}% 거리기반 방향성 mean error count, {}% 거리+방향 기반 방향성 mean error count\".format(test_per, test_per))\n",
    "    print(\"거리기반 =================> {}\".format(round(fit_df['execute 거리기반, cos_err'].mean())))\n",
    "    print(\"거리 + 방향 기반 ==========> {} \\n\".format(round(fit_df['execute 거리+방향기반, cos_err'].mean())))\n",
    "\n",
    "\n",
    "    print(\"compare {}% 방향기반 거리 mean error count, {}% 거리+방향 기반 거리 mean error count\".format(test_per, test_per))\n",
    "    print(\"방향기반 =================> {}\".format(round(fit_df['execute 방향기반, dis_err'].mean())))\n",
    "    print(\"거리 + 방향 기반 ==========> {} \\n\".format(round(fit_df['execute 거리+방향기반, dis_err'].mean())))\n",
    "\n",
    "    fit_df"
   ]
  },
  {
   "cell_type": "code",
   "execution_count": 58,
   "id": "28cf0c00",
   "metadata": {},
   "outputs": [
    {
     "name": "stdout",
     "output_type": "stream",
     "text": [
      "compare 90% 거리기반 방향성 mean error count, 90% 거리+방향 기반 방향성 mean error count\n",
      "거리기반 =================> 13\n",
      "거리 + 방향 기반 ==========> 6 \n",
      "\n",
      "compare 90% 방향기반 거리 mean error count, 90% 거리+방향 기반 거리 mean error count\n",
      "방향기반 =================> 13\n",
      "거리 + 방향 기반 ==========> 0 \n",
      "\n"
     ]
    }
   ],
   "source": [
    "test_func(90)"
   ]
  },
  {
   "cell_type": "code",
   "execution_count": 59,
   "id": "b09217dc",
   "metadata": {},
   "outputs": [
    {
     "name": "stdout",
     "output_type": "stream",
     "text": [
      "compare 80% 거리기반 방향성 mean error count, 80% 거리+방향 기반 방향성 mean error count\n",
      "거리기반 =================> 15\n",
      "거리 + 방향 기반 ==========> 8 \n",
      "\n",
      "compare 80% 방향기반 거리 mean error count, 80% 거리+방향 기반 거리 mean error count\n",
      "방향기반 =================> 15\n",
      "거리 + 방향 기반 ==========> 0 \n",
      "\n"
     ]
    }
   ],
   "source": [
    "test_func(80)"
   ]
  },
  {
   "cell_type": "code",
   "execution_count": 60,
   "id": "aa8c8118",
   "metadata": {},
   "outputs": [
    {
     "name": "stdout",
     "output_type": "stream",
     "text": [
      "compare 50% 거리기반 방향성 mean error count, 50% 거리+방향 기반 방향성 mean error count\n",
      "거리기반 =================> 36\n",
      "거리 + 방향 기반 ==========> 26 \n",
      "\n",
      "compare 50% 방향기반 거리 mean error count, 50% 거리+방향 기반 거리 mean error count\n",
      "방향기반 =================> 35\n",
      "거리 + 방향 기반 ==========> 2 \n",
      "\n"
     ]
    }
   ],
   "source": [
    "test_func(50)"
   ]
  },
  {
   "cell_type": "code",
   "execution_count": 61,
   "id": "8a5f3415",
   "metadata": {},
   "outputs": [
    {
     "name": "stdout",
     "output_type": "stream",
     "text": [
      "compare 25% 거리기반 방향성 mean error count, 25% 거리+방향 기반 방향성 mean error count\n",
      "거리기반 =================> 61\n",
      "거리 + 방향 기반 ==========> 51 \n",
      "\n",
      "compare 25% 방향기반 거리 mean error count, 25% 거리+방향 기반 거리 mean error count\n",
      "방향기반 =================> 62\n",
      "거리 + 방향 기반 ==========> 14 \n",
      "\n"
     ]
    }
   ],
   "source": [
    "test_func(25)"
   ]
  },
  {
   "cell_type": "code",
   "execution_count": 62,
   "id": "dbe4c200",
   "metadata": {},
   "outputs": [
    {
     "name": "stdout",
     "output_type": "stream",
     "text": [
      "compare 10% 거리기반 방향성 mean error count, 10% 거리+방향 기반 방향성 mean error count\n",
      "거리기반 =================> 80\n",
      "거리 + 방향 기반 ==========> 76 \n",
      "\n",
      "compare 10% 방향기반 거리 mean error count, 10% 거리+방향 기반 거리 mean error count\n",
      "방향기반 =================> 81\n",
      "거리 + 방향 기반 ==========> 47 \n",
      "\n"
     ]
    }
   ],
   "source": [
    "test_func(10)"
   ]
  },
  {
   "cell_type": "code",
   "execution_count": 63,
   "id": "ff870c94",
   "metadata": {},
   "outputs": [
    {
     "name": "stdout",
     "output_type": "stream",
     "text": [
      "compare 5% 거리기반 방향성 mean error count, 5% 거리+방향 기반 방향성 mean error count\n",
      "거리기반 =================> 91\n",
      "거리 + 방향 기반 ==========> 89 \n",
      "\n",
      "compare 5% 방향기반 거리 mean error count, 5% 거리+방향 기반 거리 mean error count\n",
      "방향기반 =================> 92\n",
      "거리 + 방향 기반 ==========> 74 \n",
      "\n"
     ]
    }
   ],
   "source": [
    "test_func(5)"
   ]
  }
 ],
 "metadata": {
  "kernelspec": {
   "display_name": "Python 3",
   "language": "python",
   "name": "python3"
  },
  "language_info": {
   "codemirror_mode": {
    "name": "ipython",
    "version": 3
   },
   "file_extension": ".py",
   "mimetype": "text/x-python",
   "name": "python",
   "nbconvert_exporter": "python",
   "pygments_lexer": "ipython3",
   "version": "3.8.8"
  }
 },
 "nbformat": 4,
 "nbformat_minor": 5
}
