{
 "cells": [
  {
   "cell_type": "code",
   "execution_count": 1,
   "id": "43b18730",
   "metadata": {},
   "outputs": [],
   "source": [
    "%load_ext autoreload\n",
    "%autoreload 2\n",
    "%reload_ext autoreload"
   ]
  },
  {
   "cell_type": "code",
   "execution_count": 134,
   "id": "4f738c56",
   "metadata": {},
   "outputs": [],
   "source": [
    "import pandas as pd\n",
    "import numpy as np\n",
    "from numpy import dot\n",
    "from numpy.linalg import norm\n",
    "import datetime as dt\n",
    "import math as mt\n",
    "from pymongo import MongoClient as mc\n",
    "import IPython\n",
    "import IPython.display\n",
    "from sklearn.decomposition import TruncatedSVD \n",
    "from scipy.spatial import distance\n",
    "import scipy.stats\n",
    "from modules.models import *\n",
    "from modules.utils import *\n",
    "import modules.new_utils as nu\n",
    "from tqdm import trange\n",
    "\n",
    "%matplotlib inline\n",
    "import matplotlib\n",
    "import matplotlib.pyplot as plt\n",
    "import seaborn as sn\n",
    "sn.set()\n",
    "plt.rcParams['axes.labelsize'] = 14\n",
    "plt.rcParams['xtick.labelsize'] = 12\n",
    "plt.rcParams['ytick.labelsize'] = 12\n",
    "\n",
    "# 한글출력\n",
    "matplotlib.rc('font', family='AppleGothic')  # MacOS\n",
    "# matplotlib.rc('font', family='Malgun Gothic')  # Windows\n",
    "plt.rcParams['axes.unicode_minus'] = False"
   ]
  },
  {
   "cell_type": "code",
   "execution_count": 3,
   "id": "997f4f60",
   "metadata": {},
   "outputs": [],
   "source": [
    "# 1. read datas.xlsx\n",
    "xlsx = load_excel(\"datas/datas.xlsx\")"
   ]
  },
  {
   "cell_type": "code",
   "execution_count": 15,
   "id": "c48d3ef6",
   "metadata": {},
   "outputs": [],
   "source": [
    "# 2. data pre-processing\n",
    "p, m = data_preprocessing(xlsx)"
   ]
  },
  {
   "cell_type": "code",
   "execution_count": 82,
   "id": "4ff697a9",
   "metadata": {},
   "outputs": [
    {
     "name": "stdout",
     "output_type": "stream",
     "text": [
      "1 월 계산 진행 합니다.\n",
      "2 월 계산 진행 합니다.\n",
      "3 월 계산 진행 합니다.\n",
      "4 월 계산 진행 합니다.\n",
      "5 월 계산 진행 합니다.\n",
      "6 월 계산 진행 합니다.\n",
      "7 월 계산 진행 합니다.\n",
      "8 월 계산 진행 합니다.\n",
      "9 월 계산 진행 합니다.\n",
      "10 월 계산 진행 합니다.\n",
      "11 월 계산 진행 합니다.\n",
      "12 월 계산 진행 합니다.\n"
     ]
    }
   ],
   "source": [
    "# 3. bill - calc\n",
    "min_per = 10\n",
    "max_per = 80\n",
    "bc_result = nu.bill_calc(m, p, min_per, max_per)"
   ]
  },
  {
   "cell_type": "code",
   "execution_count": 87,
   "id": "9d216dfb",
   "metadata": {},
   "outputs": [],
   "source": [
    "# 4. normal_analysis\n",
    "# 일반분석\n",
    "# - 각 월 별 유리 가구 수, 아파트 전체 사용요금, 공동설비사용요금, 손실율에서 종합계약이 언제부터 유리해지는 지 확인할 수 있다.\n",
    "na_result = nu.normal_analysis(bc_result)"
   ]
  },
  {
   "cell_type": "code",
   "execution_count": 120,
   "id": "249b798f",
   "metadata": {},
   "outputs": [
    {
     "name": "stdout",
     "output_type": "stream",
     "text": [
      "1 월 계산 진행 합니다.\n"
     ]
    }
   ],
   "source": [
    "# 추천이 들어가는 곳\n",
    "# 5. mean_analysis\n",
    "# 평균치를 기준으로 사용량을 재구성하여 일반분석 진행\n",
    "mean_result = nu.mean_analysis(m, p, min_per, max_per)"
   ]
  },
  {
   "cell_type": "code",
   "execution_count": 122,
   "id": "1e63043a",
   "metadata": {},
   "outputs": [
    {
     "data": {
      "text/plain": [
       "{'positive_count': {'comp':     10   11    12    13    14    15    16    17    18    19  ...     71  \\\n",
       "  1  8.0  8.0  10.0  13.0  13.0  15.0  23.0  20.0  27.0  30.0  ...  398.0   \n",
       "  \n",
       "        72     73     74     75     76     77     78     79     80  \n",
       "  1  398.0  398.0  398.0  398.0  398.0  398.0  398.0  398.0  398.0  \n",
       "  \n",
       "  [1 rows x 71 columns],\n",
       "  'single':       10     11     12     13     14     15     16     17     18     19  ...  \\\n",
       "  1  390.0  390.0  388.0  385.0  385.0  383.0  375.0  378.0  371.0  368.0  ...   \n",
       "  \n",
       "      71   72   73   74   75   76   77   78   79   80  \n",
       "  1  0.0  0.0  0.0  0.0  0.0  0.0  0.0  0.0  0.0  0.0  \n",
       "  \n",
       "  [1 rows x 71 columns]},\n",
       " 'loss_ratio': {'comp':       10     11     12     13     14     15     16     17     18     19  ...  \\\n",
       "  1  118.0  117.0  117.0  116.0  116.0  115.0  114.0  114.0  113.0  113.0  ...   \n",
       "  \n",
       "       71    72    73    74    75    76    77    78    79    80  \n",
       "  1  64.0  63.0  63.0  62.0  61.0  61.0  60.0  59.0  59.0  58.0  \n",
       "  \n",
       "  [1 rows x 71 columns],\n",
       "  'single':      10    11    12    13    14    15    16    17    18    19  ...     71  \\\n",
       "  1  85.0  86.0  86.0  87.0  87.0  87.0  88.0  88.0  89.0  89.0  ...  158.0   \n",
       "  \n",
       "        72     73     74     75     76     77     78     79     80  \n",
       "  1  159.0  161.0  162.0  164.0  166.0  167.0  169.0  170.0  172.0  \n",
       "  \n",
       "  [1 rows x 71 columns]},\n",
       " 'pos_change_per': {'bill': array([35.]),\n",
       "  'public_bill': array([11.]),\n",
       "  'positive_count': array([35.]),\n",
       "  'loss_ratio': array([35.])}}"
      ]
     },
     "execution_count": 122,
     "metadata": {},
     "output_type": "execute_result"
    }
   ],
   "source": [
    "mean_result[1]"
   ]
  },
  {
   "cell_type": "code",
   "execution_count": 167,
   "id": "2817404b",
   "metadata": {},
   "outputs": [
    {
     "name": "stderr",
     "output_type": "stream",
     "text": [
      "100%|██████████| 397/397 [00:03<00:00, 112.36it/s]\n"
     ]
    }
   ],
   "source": [
    "a = m.set_index(\"month\")\n",
    "test = np.array(a)\n",
    "r,c = test.shape\n",
    "imp_weight = 0.99\n",
    "\n",
    "recos = np.array([])\n",
    "\n",
    "for t in trange(c - 1):\n",
    "    if t == 0:\n",
    "        dr_matrix = test\n",
    "    else:\n",
    "        dr_size = c - t\n",
    "        svd = TruncatedSVD(n_components=dr_size)\n",
    "        dr_matrix = svd.fit_transform(test)\n",
    "    \n",
    "    imp = np.array([])\n",
    "    for A in dr_matrix:\n",
    "        _ = np.array([])\n",
    "        for B in dr_matrix:\n",
    "            _ = np.append(_, improved_similarity(\n",
    "                    A, B, imp_weight\n",
    "                ))\n",
    "        imp = np.append(imp, _)\n",
    "        imp = imp.reshape(r, -1)\n",
    "        \n",
    "    reco_idx = imp.mean(axis=1).argmax()\n",
    "    \n",
    "    if ~np.any(recos == reco_idx):\n",
    "        recos = np.append(recos, reco_idx)"
   ]
  },
  {
   "cell_type": "code",
   "execution_count": 168,
   "id": "2738afb1",
   "metadata": {},
   "outputs": [
    {
     "data": {
      "text/plain": [
       "array([ 1.,  2.,  9., 10.])"
      ]
     },
     "execution_count": 168,
     "metadata": {},
     "output_type": "execute_result"
    }
   ],
   "source": [
    "recos"
   ]
  },
  {
   "cell_type": "code",
   "execution_count": null,
   "id": "e2a22170",
   "metadata": {},
   "outputs": [],
   "source": []
  }
 ],
 "metadata": {
  "kernelspec": {
   "display_name": "Python 3 (ipykernel)",
   "language": "python",
   "name": "python3"
  },
  "language_info": {
   "codemirror_mode": {
    "name": "ipython",
    "version": 3
   },
   "file_extension": ".py",
   "mimetype": "text/x-python",
   "name": "python",
   "nbconvert_exporter": "python",
   "pygments_lexer": "ipython3",
   "version": "3.8.12"
  }
 },
 "nbformat": 4,
 "nbformat_minor": 5
}
