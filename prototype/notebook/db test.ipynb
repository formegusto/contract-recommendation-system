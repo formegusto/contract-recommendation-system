{
 "cells": [
  {
   "cell_type": "code",
   "execution_count": 186,
   "id": "85679613",
   "metadata": {},
   "outputs": [
    {
     "name": "stdout",
     "output_type": "stream",
     "text": [
      "The autoreload extension is already loaded. To reload it, use:\n",
      "  %reload_ext autoreload\n"
     ]
    }
   ],
   "source": [
    "%load_ext autoreload\n",
    "%autoreload 2\n",
    "%reload_ext autoreload"
   ]
  },
  {
   "cell_type": "code",
   "execution_count": 187,
   "id": "81844f85",
   "metadata": {},
   "outputs": [
    {
     "name": "stderr",
     "output_type": "stream",
     "text": [
      "[autoreload of modules.new_utils failed: Traceback (most recent call last):\n",
      "  File \"/Users/formegusto/opt/anaconda3/lib/python3.8/site-packages/IPython/extensions/autoreload.py\", line 245, in check\n",
      "    superreload(m, reload, self.old_objects)\n",
      "  File \"/Users/formegusto/opt/anaconda3/lib/python3.8/site-packages/IPython/extensions/autoreload.py\", line 394, in superreload\n",
      "    module = reload(module)\n",
      "  File \"/Users/formegusto/opt/anaconda3/lib/python3.8/imp.py\", line 314, in reload\n",
      "    return importlib.reload(module)\n",
      "  File \"/Users/formegusto/opt/anaconda3/lib/python3.8/importlib/__init__.py\", line 169, in reload\n",
      "    _bootstrap._exec(spec, module)\n",
      "  File \"<frozen importlib._bootstrap>\", line 604, in _exec\n",
      "  File \"<frozen importlib._bootstrap_external>\", line 843, in exec_module\n",
      "  File \"<frozen importlib._bootstrap>\", line 219, in _call_with_frames_removed\n",
      "  File \"/Users/formegusto/Desktop/idoformegusto/development/research/contract-recommendation-system/prototype/notebook/modules/new_utils/__init__.py\", line 8, in <module>\n",
      "    from modules.new_utils.analysis_processing import analysis_processing_single\n",
      "  File \"/Users/formegusto/Desktop/idoformegusto/development/research/contract-recommendation-system/prototype/notebook/modules/new_utils/analysis_processing.py\", line 1, in <module>\n",
      "    from common.calc_datas import db_process\n",
      "ModuleNotFoundError: No module named 'common'\n",
      "]\n"
     ]
    }
   ],
   "source": [
    "import pandas as pd\n",
    "import numpy as np\n",
    "from numpy import dot\n",
    "from numpy.linalg import norm\n",
    "import datetime as dt\n",
    "import math as mt\n",
    "from pymongo import MongoClient as mc\n",
    "import IPython\n",
    "import IPython.display\n",
    "from sklearn.decomposition import TruncatedSVD \n",
    "from scipy.spatial import distance\n",
    "import scipy.stats\n",
    "# from modules.models import *\n",
    "import modules.new_utils as nu\n",
    "from tqdm import trange\n",
    "\n",
    "%matplotlib inline\n",
    "import matplotlib\n",
    "import matplotlib.pyplot as plt\n",
    "import seaborn as sn\n",
    "sn.set()\n",
    "plt.rcParams['axes.labelsize'] = 14\n",
    "plt.rcParams['xtick.labelsize'] = 12\n",
    "plt.rcParams['ytick.labelsize'] = 12\n",
    "\n",
    "# 한글출력\n",
    "matplotlib.rc('font', family='AppleGothic')  # MacOS\n",
    "# matplotlib.rc('font', family='Malgun Gothic')  # Windows\n",
    "plt.rcParams['axes.unicode_minus'] = False"
   ]
  },
  {
   "cell_type": "code",
   "execution_count": 4,
   "id": "e7124a34",
   "metadata": {},
   "outputs": [],
   "source": [
    "'''\n",
    "title\n",
    ":\n",
    "\"시뮬레이션 입니다.\"\n",
    "dataName\n",
    ":\n",
    "\"original-data-1644541675739.xlsx\"\n",
    "minPer\n",
    ":\n",
    "20\n",
    "maxPer\n",
    ":\n",
    "80\n",
    "step\n",
    ":\n",
    "\"similarity-analysis\"\n",
    "createdAt\n",
    ":\n",
    "\"2022-02-11T10:07:56\"\n",
    "updatedAt\n",
    ":\n",
    "\"2022-02-11T10:17:39\"\n",
    "'''\n",
    "\n",
    "# 1. read datas.xlsx\n",
    "xlsx = nu.load_excel(\"datas/datas.xlsx\")"
   ]
  },
  {
   "cell_type": "code",
   "execution_count": 78,
   "id": "2f7a1a61",
   "metadata": {},
   "outputs": [],
   "source": [
    "mongo_uri = \"mongodb://localhost:27017\"\n",
    "client = mc(mongo_uri)\n",
    "db = client.crs_test\n",
    "col = db.result"
   ]
  },
  {
   "cell_type": "code",
   "execution_count": 79,
   "id": "f29fd072",
   "metadata": {},
   "outputs": [
    {
     "name": "stdout",
     "output_type": "stream",
     "text": [
      "6205e286c22e94d548b416d2\n"
     ]
    }
   ],
   "source": [
    "init_data = {\n",
    "    \"title\":\"시뮬레이션 입니다.\",\n",
    "    \"dataName\":\"original-data-1644541675739.xlsx\",\n",
    "    \"minPer\": 20,\n",
    "    \"maxPer\": 80,\n",
    "    \"step\":\"similarity-analysis\",\n",
    "    \"createdAt\":\"2022-02-11T10:07:56\",\n",
    "    \"updatedAt\":\"2022-02-11T10:17:39\"\n",
    "}\n",
    "init_result = col.insert_one(init_data)\n",
    "pid = init_result.inserted_id\n",
    "\n",
    "print(pid)"
   ]
  },
  {
   "cell_type": "code",
   "execution_count": 196,
   "id": "d337fa18",
   "metadata": {},
   "outputs": [
    {
     "name": "stderr",
     "output_type": "stream",
     "text": [
      "/Users/formegusto/Desktop/idoformegusto/development/research/contract-recommendation-system/prototype/notebook/modules/new_utils/data_preprocessing.py:26: PerformanceWarning: DataFrame is highly fragmented.  This is usually the result of calling `frame.insert` many times, which has poor performance.  Consider joining all columns at once using pd.concat(axis=1) instead.  To get a de-fragmented frame, use `newframe = frame.copy()`\n",
      "  datas_df[household_name] = household_df[col][3:].to_list()\n",
      "/Users/formegusto/Desktop/idoformegusto/development/research/contract-recommendation-system/prototype/notebook/modules/new_utils/data_preprocessing.py:49: PerformanceWarning: DataFrame is highly fragmented.  This is usually the result of calling `frame.insert` many times, which has poor performance.  Consider joining all columns at once using pd.concat(axis=1) instead.  To get a de-fragmented frame, use `newframe = frame.copy()`\n",
      "  month_usage_df[name] = [\n"
     ]
    }
   ],
   "source": [
    "# 2. data pre-processing\n",
    "p, m, d = nu.data_preprocessing(xlsx, db_processing=True)\n",
    "\n",
    "if d != None:\n",
    "    col.update_one({\"_id\": pid},{\n",
    "        \"$set\":{\n",
    "            \"dpp\": d\n",
    "        }\n",
    "    })"
   ]
  },
  {
   "cell_type": "code",
   "execution_count": 197,
   "id": "7ca55519",
   "metadata": {},
   "outputs": [
    {
     "name": "stdout",
     "output_type": "stream",
     "text": [
      "1 월 계산 진행 합니다.\n",
      "가구 수: 398 / 평균: 282 / 표준편차: 107 / 변동계수: 38\n",
      "2 월 계산 진행 합니다.\n",
      "가구 수: 398 / 평균: 254 / 표준편차: 91 / 변동계수: 36\n",
      "3 월 계산 진행 합니다.\n",
      "가구 수: 398 / 평균: 266 / 표준편차: 91 / 변동계수: 34\n",
      "4 월 계산 진행 합니다.\n",
      "가구 수: 398 / 평균: 249 / 표준편차: 86 / 변동계수: 35\n",
      "5 월 계산 진행 합니다.\n",
      "가구 수: 398 / 평균: 183 / 표준편차: 126 / 변동계수: 69\n",
      "6 월 계산 진행 합니다.\n",
      "가구 수: 398 / 평균: 226 / 표준편차: 84 / 변동계수: 37\n",
      "7 월 계산 진행 합니다.\n",
      "가구 수: 398 / 평균: 341 / 표준편차: 133 / 변동계수: 39\n",
      "8 월 계산 진행 합니다.\n",
      "가구 수: 398 / 평균: 349 / 표준편차: 140 / 변동계수: 40\n",
      "9 월 계산 진행 합니다.\n",
      "가구 수: 398 / 평균: 235 / 표준편차: 85 / 변동계수: 36\n",
      "10 월 계산 진행 합니다.\n",
      "가구 수: 398 / 평균: 246 / 표준편차: 88 / 변동계수: 36\n",
      "11 월 계산 진행 합니다.\n",
      "가구 수: 398 / 평균: 255 / 표준편차: 94 / 변동계수: 37\n",
      "12 월 계산 진행 합니다.\n",
      "가구 수: 398 / 평균: 284 / 표준편차: 111 / 변동계수: 39\n"
     ]
    }
   ],
   "source": [
    "# 3. bill - calc\n",
    "min_per = 10\n",
    "max_per = 80\n",
    "bc_result = nu.bill_calc(m, p, min_per, max_per)"
   ]
  },
  {
   "cell_type": "code",
   "execution_count": 198,
   "id": "e9116814",
   "metadata": {},
   "outputs": [],
   "source": [
    "# 4. normal_analysis\n",
    "# 일반분석\n",
    "# - 각 월 별 유리 가구 수, 아파트 전체 사용요금, 공동설비사용요금, 손실율에서 종합계약이 언제부터 유리해지는 지 확인할 수 있다.\n",
    "na_result = nu.normal_analysis(bc_result)"
   ]
  },
  {
   "cell_type": "code",
   "execution_count": 201,
   "id": "4d90101d",
   "metadata": {},
   "outputs": [
    {
     "name": "stdout",
     "output_type": "stream",
     "text": [
      "1 월 계산 진행 합니다.\n",
      "가구 수: 398 / 평균: 264 / 표준편차: 89 / 변동계수: 34\n"
     ]
    },
    {
     "data": {
      "text/plain": [
       "<pymongo.results.UpdateResult at 0x7f8febfd3840>"
      ]
     },
     "execution_count": 201,
     "metadata": {},
     "output_type": "execute_result"
    }
   ],
   "source": [
    "# 추천이 들어가는 곳\n",
    "# 5. mean_analysis\n",
    "# 평균치를 기준으로 사용량을 재구성하여 일반분석 진행\n",
    "mean_result = nu.mean_analysis(m, p, min_per, max_per, db_processing=True)\n",
    "\n",
    "col.update_one({\"_id\": pid},{\n",
    "    \"$set\":{\n",
    "        \"recoPercentage\": mean_result['changePer']['positiveCount'],\n",
    "        \"meanAnalysis\": mean_result\n",
    "    }\n",
    "})"
   ]
  },
  {
   "cell_type": "code",
   "execution_count": 202,
   "id": "d7b44f5a",
   "metadata": {},
   "outputs": [
    {
     "name": "stdout",
     "output_type": "stream",
     "text": [
      "1 월 계산 진행 합니다.\n",
      "가구 수: 398 / 평균: 255 / 표준편차: 87 / 변동계수: 34\n"
     ]
    },
    {
     "data": {
      "text/plain": [
       "<pymongo.results.UpdateResult at 0x7f8fbbfefe40>"
      ]
     },
     "execution_count": 202,
     "metadata": {},
     "output_type": "execute_result"
    }
   ],
   "source": [
    "# 추천이 들어가는 곳\n",
    "# 6. similarity_analysis\n",
    "# 유사도 높은 패턴들을 기준으로 사용량을 재구성하여 일반분석 진행\n",
    "anal_result = nu.similarity_analysis(m, p, min_per, max_per, db_processing=True)\n",
    "\n",
    "col.update_one({\"_id\": pid},{\n",
    "    \"$set\":{\n",
    "        \"simAnalysis\": anal_result\n",
    "    }\n",
    "})"
   ]
  }
 ],
 "metadata": {
  "kernelspec": {
   "display_name": "Python 3 (ipykernel)",
   "language": "python",
   "name": "python3"
  },
  "language_info": {
   "codemirror_mode": {
    "name": "ipython",
    "version": 3
   },
   "file_extension": ".py",
   "mimetype": "text/x-python",
   "name": "python",
   "nbconvert_exporter": "python",
   "pygments_lexer": "ipython3",
   "version": "3.8.12"
  }
 },
 "nbformat": 4,
 "nbformat_minor": 5
}
