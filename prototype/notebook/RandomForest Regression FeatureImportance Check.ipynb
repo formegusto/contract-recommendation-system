{
 "cells": [
  {
   "cell_type": "code",
   "execution_count": 207,
   "id": "dff01e55",
   "metadata": {},
   "outputs": [
    {
     "name": "stdout",
     "output_type": "stream",
     "text": [
      "The autoreload extension is already loaded. To reload it, use:\n",
      "  %reload_ext autoreload\n"
     ]
    }
   ],
   "source": [
    "%load_ext autoreload\n",
    "%autoreload 2\n",
    "%reload_ext autoreload"
   ]
  },
  {
   "cell_type": "code",
   "execution_count": 208,
   "id": "80463285",
   "metadata": {},
   "outputs": [],
   "source": [
    "import pandas as pd\n",
    "import numpy as np\n",
    "from numpy import dot\n",
    "from numpy.linalg import norm\n",
    "import datetime as dt\n",
    "import math as mt\n",
    "from pymongo import MongoClient as mc\n",
    "import IPython\n",
    "import IPython.display\n",
    "from sklearn.decomposition import TruncatedSVD \n",
    "from scipy.spatial import distance\n",
    "import scipy.stats\n",
    "from modules.models import *\n",
    "from modules.utils import *\n",
    "import modules.new_utils as nu\n",
    "from tqdm import trange\n",
    "import random as ran\n",
    "\n",
    "%matplotlib inline\n",
    "import matplotlib\n",
    "import matplotlib.pyplot as plt\n",
    "import seaborn as sn\n",
    "sn.set()\n",
    "plt.rcParams['axes.labelsize'] = 14\n",
    "plt.rcParams['xtick.labelsize'] = 12\n",
    "plt.rcParams['ytick.labelsize'] = 12\n",
    "\n",
    "# 한글출력\n",
    "matplotlib.rc('font', family='AppleGothic')  # MacOS\n",
    "# matplotlib.rc('font', family='Malgun Gothic')  # Windows\n",
    "plt.rcParams['axes.unicode_minus'] = False"
   ]
  },
  {
   "cell_type": "code",
   "execution_count": 209,
   "id": "bf6c0e94",
   "metadata": {},
   "outputs": [],
   "source": [
    "# 1. read datas.xlsx\n",
    "xlsx = load_excel(\"datas/datas.xlsx\")"
   ]
  },
  {
   "cell_type": "code",
   "execution_count": 210,
   "id": "675107d5",
   "metadata": {},
   "outputs": [
    {
     "name": "stderr",
     "output_type": "stream",
     "text": [
      "/Users/formegusto/Desktop/idoformegusto/development/research/contract-recommendation-system/prototype/notebook/modules/utils/data_preprocessing.py:26: PerformanceWarning: DataFrame is highly fragmented.  This is usually the result of calling `frame.insert` many times, which has poor performance.  Consider joining all columns at once using pd.concat(axis=1) instead.  To get a de-fragmented frame, use `newframe = frame.copy()`\n",
      "  datas_df[household_name] = household_df[col][3:].to_list()\n",
      "/Users/formegusto/Desktop/idoformegusto/development/research/contract-recommendation-system/prototype/notebook/modules/utils/data_preprocessing.py:49: PerformanceWarning: DataFrame is highly fragmented.  This is usually the result of calling `frame.insert` many times, which has poor performance.  Consider joining all columns at once using pd.concat(axis=1) instead.  To get a de-fragmented frame, use `newframe = frame.copy()`\n",
      "  month_usage_df[name] = [\n"
     ]
    }
   ],
   "source": [
    "# 2. data pre-processing\n",
    "p, m = data_preprocessing(xlsx)"
   ]
  },
  {
   "cell_type": "code",
   "execution_count": 211,
   "id": "c6ec77da",
   "metadata": {},
   "outputs": [
    {
     "name": "stdout",
     "output_type": "stream",
     "text": [
      "1 월 계산 진행 합니다.\n",
      "가구 수: 398 / 평균: 282 / 표준편차: 107 / 변동계수: 38\n",
      "2 월 계산 진행 합니다.\n",
      "가구 수: 398 / 평균: 254 / 표준편차: 91 / 변동계수: 36\n",
      "3 월 계산 진행 합니다.\n",
      "가구 수: 398 / 평균: 266 / 표준편차: 91 / 변동계수: 34\n",
      "4 월 계산 진행 합니다.\n",
      "가구 수: 398 / 평균: 249 / 표준편차: 86 / 변동계수: 35\n",
      "5 월 계산 진행 합니다.\n",
      "가구 수: 398 / 평균: 183 / 표준편차: 126 / 변동계수: 69\n",
      "6 월 계산 진행 합니다.\n",
      "가구 수: 398 / 평균: 226 / 표준편차: 84 / 변동계수: 37\n",
      "7 월 계산 진행 합니다.\n",
      "가구 수: 398 / 평균: 341 / 표준편차: 133 / 변동계수: 39\n",
      "8 월 계산 진행 합니다.\n",
      "가구 수: 398 / 평균: 349 / 표준편차: 140 / 변동계수: 40\n",
      "9 월 계산 진행 합니다.\n",
      "가구 수: 398 / 평균: 235 / 표준편차: 85 / 변동계수: 36\n",
      "10 월 계산 진행 합니다.\n",
      "가구 수: 398 / 평균: 246 / 표준편차: 88 / 변동계수: 36\n",
      "11 월 계산 진행 합니다.\n",
      "가구 수: 398 / 평균: 255 / 표준편차: 94 / 변동계수: 37\n",
      "12 월 계산 진행 합니다.\n",
      "가구 수: 398 / 평균: 284 / 표준편차: 111 / 변동계수: 39\n"
     ]
    }
   ],
   "source": [
    "# 3. bill - calc\n",
    "min_per = 10\n",
    "max_per = 80\n",
    "bc_result = nu.bill_calc(m, p, min_per, max_per)"
   ]
  },
  {
   "cell_type": "code",
   "execution_count": 212,
   "id": "8d41ad5c",
   "metadata": {},
   "outputs": [],
   "source": [
    "# 4. normal_analysis\n",
    "# 일반분석\n",
    "# - 각 월 별 유리 가구 수, 아파트 전체 사용요금, 공동설비사용요금, 손실율에서 종합계약이 언제부터 유리해지는 지 확인할 수 있다.\n",
    "na_result = nu.normal_analysis(bc_result)"
   ]
  },
  {
   "cell_type": "code",
   "execution_count": 213,
   "id": "0a0f584c",
   "metadata": {},
   "outputs": [
    {
     "name": "stdout",
     "output_type": "stream",
     "text": [
      "dict_keys(['bill', 'public_bill', 'positive_count', 'loss_ratio'])\n",
      "유리 가구 수 변화 [30. 37. 29. 28. 42. 44. 31. 31. 30. 29. 37. 30.]\n",
      "유리 가구 수 변화 [30. 37. 26. 24. 37. 44. 30. 30. 23. 25. 37. 30.]\n"
     ]
    }
   ],
   "source": [
    "print(na_result['pos_change_per'].keys())\n",
    "print(\"유리 가구 수 변화\",na_result['pos_change_per']['positive_count'])\n",
    "print(\"유리 가구 수 변화\",na_result['pos_change_per']['loss_ratio'])"
   ]
  },
  {
   "cell_type": "code",
   "execution_count": 214,
   "id": "5cee2e8e",
   "metadata": {},
   "outputs": [],
   "source": [
    "m_idx_month = m.set_index(\"month\")\n",
    "m_idx_month = m_idx_month.mean().round()\n",
    "mim = pd.DataFrame(columns=['name', 'usage (kWh)'])\n",
    "mim['name'] = m_idx_month.index\n",
    "mim['usage (kWh)'] = m_idx_month.values"
   ]
  },
  {
   "cell_type": "code",
   "execution_count": 230,
   "id": "efee07a5",
   "metadata": {
    "scrolled": true
   },
   "outputs": [
    {
     "name": "stdout",
     "output_type": "stream",
     "text": [
      "분석 시작 합니다.\n"
     ]
    },
    {
     "data": {
      "text/html": [
       "<div>\n",
       "<style scoped>\n",
       "    .dataframe tbody tr th:only-of-type {\n",
       "        vertical-align: middle;\n",
       "    }\n",
       "\n",
       "    .dataframe tbody tr th {\n",
       "        vertical-align: top;\n",
       "    }\n",
       "\n",
       "    .dataframe thead th {\n",
       "        text-align: right;\n",
       "    }\n",
       "</style>\n",
       "<table border=\"1\" class=\"dataframe\">\n",
       "  <thead>\n",
       "    <tr style=\"text-align: right;\">\n",
       "      <th></th>\n",
       "      <th>count</th>\n",
       "      <th>mean</th>\n",
       "      <th>std</th>\n",
       "      <th>rsd</th>\n",
       "      <th>bill_per</th>\n",
       "      <th>public_bill_per</th>\n",
       "      <th>pos_cnt_per</th>\n",
       "      <th>loss_ratio_per</th>\n",
       "    </tr>\n",
       "  </thead>\n",
       "  <tbody>\n",
       "    <tr>\n",
       "      <th>0</th>\n",
       "      <td>398.0</td>\n",
       "      <td>282.0</td>\n",
       "      <td>107.0</td>\n",
       "      <td>38.0</td>\n",
       "      <td>30.0</td>\n",
       "      <td>17.0</td>\n",
       "      <td>30.0</td>\n",
       "      <td>30.0</td>\n",
       "    </tr>\n",
       "    <tr>\n",
       "      <th>1</th>\n",
       "      <td>398.0</td>\n",
       "      <td>254.0</td>\n",
       "      <td>91.0</td>\n",
       "      <td>36.0</td>\n",
       "      <td>37.0</td>\n",
       "      <td>12.0</td>\n",
       "      <td>37.0</td>\n",
       "      <td>37.0</td>\n",
       "    </tr>\n",
       "    <tr>\n",
       "      <th>2</th>\n",
       "      <td>398.0</td>\n",
       "      <td>266.0</td>\n",
       "      <td>91.0</td>\n",
       "      <td>34.0</td>\n",
       "      <td>31.0</td>\n",
       "      <td>10.0</td>\n",
       "      <td>29.0</td>\n",
       "      <td>26.0</td>\n",
       "    </tr>\n",
       "    <tr>\n",
       "      <th>3</th>\n",
       "      <td>398.0</td>\n",
       "      <td>249.0</td>\n",
       "      <td>86.0</td>\n",
       "      <td>35.0</td>\n",
       "      <td>29.0</td>\n",
       "      <td>10.0</td>\n",
       "      <td>28.0</td>\n",
       "      <td>24.0</td>\n",
       "    </tr>\n",
       "    <tr>\n",
       "      <th>4</th>\n",
       "      <td>398.0</td>\n",
       "      <td>183.0</td>\n",
       "      <td>126.0</td>\n",
       "      <td>69.0</td>\n",
       "      <td>43.0</td>\n",
       "      <td>29.0</td>\n",
       "      <td>42.0</td>\n",
       "      <td>37.0</td>\n",
       "    </tr>\n",
       "    <tr>\n",
       "      <th>...</th>\n",
       "      <td>...</td>\n",
       "      <td>...</td>\n",
       "      <td>...</td>\n",
       "      <td>...</td>\n",
       "      <td>...</td>\n",
       "      <td>...</td>\n",
       "      <td>...</td>\n",
       "      <td>...</td>\n",
       "    </tr>\n",
       "    <tr>\n",
       "      <th>583</th>\n",
       "      <td>248.0</td>\n",
       "      <td>344.0</td>\n",
       "      <td>139.0</td>\n",
       "      <td>40.0</td>\n",
       "      <td>35.0</td>\n",
       "      <td>24.0</td>\n",
       "      <td>33.0</td>\n",
       "      <td>32.0</td>\n",
       "    </tr>\n",
       "    <tr>\n",
       "      <th>584</th>\n",
       "      <td>248.0</td>\n",
       "      <td>230.0</td>\n",
       "      <td>86.0</td>\n",
       "      <td>37.0</td>\n",
       "      <td>34.0</td>\n",
       "      <td>10.0</td>\n",
       "      <td>34.0</td>\n",
       "      <td>29.0</td>\n",
       "    </tr>\n",
       "    <tr>\n",
       "      <th>585</th>\n",
       "      <td>248.0</td>\n",
       "      <td>241.0</td>\n",
       "      <td>90.0</td>\n",
       "      <td>37.0</td>\n",
       "      <td>34.0</td>\n",
       "      <td>10.0</td>\n",
       "      <td>34.0</td>\n",
       "      <td>30.0</td>\n",
       "    </tr>\n",
       "    <tr>\n",
       "      <th>586</th>\n",
       "      <td>248.0</td>\n",
       "      <td>249.0</td>\n",
       "      <td>95.0</td>\n",
       "      <td>38.0</td>\n",
       "      <td>38.0</td>\n",
       "      <td>22.0</td>\n",
       "      <td>38.0</td>\n",
       "      <td>38.0</td>\n",
       "    </tr>\n",
       "    <tr>\n",
       "      <th>587</th>\n",
       "      <td>248.0</td>\n",
       "      <td>279.0</td>\n",
       "      <td>113.0</td>\n",
       "      <td>41.0</td>\n",
       "      <td>33.0</td>\n",
       "      <td>24.0</td>\n",
       "      <td>32.0</td>\n",
       "      <td>31.0</td>\n",
       "    </tr>\n",
       "  </tbody>\n",
       "</table>\n",
       "<p>588 rows × 8 columns</p>\n",
       "</div>"
      ],
      "text/plain": [
       "     count   mean    std   rsd  bill_per  public_bill_per  pos_cnt_per  \\\n",
       "0    398.0  282.0  107.0  38.0      30.0             17.0         30.0   \n",
       "1    398.0  254.0   91.0  36.0      37.0             12.0         37.0   \n",
       "2    398.0  266.0   91.0  34.0      31.0             10.0         29.0   \n",
       "3    398.0  249.0   86.0  35.0      29.0             10.0         28.0   \n",
       "4    398.0  183.0  126.0  69.0      43.0             29.0         42.0   \n",
       "..     ...    ...    ...   ...       ...              ...          ...   \n",
       "583  248.0  344.0  139.0  40.0      35.0             24.0         33.0   \n",
       "584  248.0  230.0   86.0  37.0      34.0             10.0         34.0   \n",
       "585  248.0  241.0   90.0  37.0      34.0             10.0         34.0   \n",
       "586  248.0  249.0   95.0  38.0      38.0             22.0         38.0   \n",
       "587  248.0  279.0  113.0  41.0      33.0             24.0         32.0   \n",
       "\n",
       "     loss_ratio_per  \n",
       "0              30.0  \n",
       "1              37.0  \n",
       "2              26.0  \n",
       "3              24.0  \n",
       "4              37.0  \n",
       "..              ...  \n",
       "583            32.0  \n",
       "584            29.0  \n",
       "585            30.0  \n",
       "586            38.0  \n",
       "587            31.0  \n",
       "\n",
       "[588 rows x 8 columns]"
      ]
     },
     "execution_count": 230,
     "metadata": {},
     "output_type": "execute_result"
    }
   ],
   "source": [
    "m_idx_month = m.set_index(\"month\")\n",
    "m_idx_month = m_idx_month.mean().round()\n",
    "mim = pd.DataFrame(columns=['name', 'usage (kWh)'])\n",
    "mim['name'] = m_idx_month.index\n",
    "mim['usage (kWh)'] = m_idx_month.values\n",
    "\n",
    "condition = [\n",
    "    mim['usage (kWh)'] >= 0, #1. 변화를 주지 않음\n",
    "    mim['usage (kWh)'] <= 200, #2. 누진세 1단계 가구 집단\n",
    "    #3. 누진세 2단계 가구 집단\n",
    "    (mim['usage (kWh)'] <= 400) & (mim['usage (kWh)'] >= 201), \n",
    "    (mim['usage (kWh)'] >= 401), #4. 누진세 3단계 가구 집단\n",
    "    #5. 누진세 1단계 2단계 가구 집단\n",
    "    ((mim['usage (kWh)'] <= 400) & (mim['usage (kWh)'] >= 201))\n",
    "    | (mim['usage (kWh)'] <= 200),\n",
    "    #6. 누진세 1단계 3단계 가구 집단\n",
    "    (mim['usage (kWh)'] >= 401) | (mim['usage (kWh)'] <= 200),\n",
    "    mim['usage (kWh)'] >= 0, #1. 변화를 주지 않음 / 2\n",
    "    mim['usage (kWh)'] <= 200, #2. 누진세 1단계 가구 집단 / 2\n",
    "    #6. 누진세 1단계 3단계 가구 집단 / 2\n",
    "    (mim['usage (kWh)'] >= 401) | (mim['usage (kWh)'] <= 200)\n",
    "]\n",
    "\n",
    "split_condition = [\n",
    "    False,\n",
    "    False,\n",
    "    False,\n",
    "    False,\n",
    "    False,\n",
    "    False,\n",
    "    True,\n",
    "    True,\n",
    "    True\n",
    "]\n",
    "\n",
    "train_datas = pd.DataFrame(columns=['count', 'mean', 'std', 'rsd',\n",
    "                                    'bill_per', 'public_bill_per',\n",
    "                                    'pos_cnt_per', 'loss_ratio_per'\n",
    "                                   ])\n",
    "\n",
    "for idx,cond in enumerate(condition):\n",
    "    in_m = pd.DataFrame()\n",
    "    cond_m = mim[cond]\n",
    "    if split_condition[idx] == True:\n",
    "        cond_m = cond_m[:round(len(cond_m) / 2)]\n",
    "    in_m = m[cond_m.name]\n",
    "    in_m['month'] = m['month']\n",
    "             \n",
    "    bc_result = nu.bill_calc(in_m, p, min_per, max_per)\n",
    "    IPython.display.clear_output()\n",
    "    \n",
    "    print(\"분석 시작 합니다.\")\n",
    "    na_result = nu.normal_analysis(bc_result)\n",
    "    \n",
    "    bills_per = na_result['pos_change_per']['bill']\n",
    "    public_bills_per = na_result['pos_change_per']['public_bill']\n",
    "    positive_count_per = na_result['pos_change_per']['positive_count']\n",
    "    loss_ratio_per = na_result['pos_change_per']['loss_ratio']    \n",
    "    \n",
    "    for idx,info in enumerate(bc_result['information']):\n",
    "        info.update({\n",
    "            'bill_per':bills_per[idx], \n",
    "            'public_bill_per': public_bills_per[idx],\n",
    "            'pos_cnt_per': positive_count_per[idx], \n",
    "            'loss_ratio_per': loss_ratio_per[idx]\n",
    "        })\n",
    "        train_datas = train_datas.append(info, ignore_index=True)\n",
    "        \n",
    "\n",
    "\n",
    "print(\"랜덤 선정 시작합니다.\")\n",
    "\n",
    "for idx in range(0,40):\n",
    "    print(\"ran#{}\".format(idx))\n",
    "    ran_per = ran.randrange(3,9) / 10\n",
    "    print(\"ran_per:{}\".format(ran_per))\n",
    "    test_indices = np.random.rand(len(m_idx_month)) < ran_per\n",
    "\n",
    "    cond_m = mim[test_indices]\n",
    "    in_m = m[cond_m.name]\n",
    "    in_m['month'] = m['month']\n",
    "\n",
    "    bc_result = nu.bill_calc(in_m, p, min_per, max_per)\n",
    "    IPython.display.clear_output()\n",
    "\n",
    "    print(\"분석 시작 합니다.\")\n",
    "    na_result = nu.normal_analysis(bc_result)\n",
    "\n",
    "    bills_per = na_result['pos_change_per']['bill']\n",
    "    public_bills_per = na_result['pos_change_per']['public_bill']\n",
    "    positive_count_per = na_result['pos_change_per']['positive_count']\n",
    "    loss_ratio_per = na_result['pos_change_per']['loss_ratio']    \n",
    "\n",
    "    for idx,info in enumerate(bc_result['information']):\n",
    "        info.update({\n",
    "            'bill_per':bills_per[idx], \n",
    "            'public_bill_per': public_bills_per[idx],\n",
    "            'pos_cnt_per': positive_count_per[idx], \n",
    "            'loss_ratio_per': loss_ratio_per[idx]\n",
    "        })\n",
    "        train_datas = train_datas.append(info, ignore_index=True)\n",
    "        \n",
    "train_datas"
   ]
  },
  {
   "cell_type": "code",
   "execution_count": 233,
   "id": "45e69018",
   "metadata": {},
   "outputs": [],
   "source": [
    "train_datas.to_csv(\"result.csv\")"
   ]
  },
  {
   "cell_type": "markdown",
   "id": "554966d5",
   "metadata": {},
   "source": [
    "## 체크 방법\n",
    "- 데이터에 변형을 줘서 200개의 케이스의 데이터 생성\n",
    "    - 1개의 케이스당 12개의 케이스 뽑아낼 수 있음.\n",
    "    - 월 별 ,평균, 표준편차, 변동계수\n",
    "- 평균, 표준편차, 변동계수, "
   ]
  },
  {
   "cell_type": "code",
   "execution_count": 235,
   "id": "f2e8bdd9",
   "metadata": {},
   "outputs": [],
   "source": [
    "df = pd.read_csv(\"result.csv\")"
   ]
  },
  {
   "cell_type": "code",
   "execution_count": 236,
   "id": "04f29ee6",
   "metadata": {},
   "outputs": [],
   "source": [
    "from sklearn.datasets import load_wine\n",
    "from sklearn.model_selection import train_test_split\n",
    "from sklearn import ensemble\n",
    "from sklearn.metrics import mean_squared_error\n",
    "import pandas as pd\n",
    "from sklearn.ensemble import RandomForestRegressor\n",
    "import numpy as np\n",
    "import matplotlib.pyplot as plot\n",
    "from tensorflow import feature_column\n",
    "from tensorflow.keras import layers\n",
    "import tensorflow as tf"
   ]
  },
  {
   "cell_type": "code",
   "execution_count": 237,
   "id": "ff8bb91d",
   "metadata": {},
   "outputs": [],
   "source": [
    "# 판다스 데이터프레임으로부터 tf.data 데이터셋을 만들기 위한 함수\n",
    "def df_to_dataset(dataframe, target, shuffle=True, batch_size=32):\n",
    "  dataframe = dataframe.copy()\n",
    "  labels = dataframe.pop(target)\n",
    "  ds = tf.data.Dataset.from_tensor_slices((dict(dataframe), labels))\n",
    "#   if shuffle:\n",
    "#     ds = ds.shuffle(buffer_size=len(dataframe))\n",
    "  ds = ds.batch(len(dataframe))\n",
    "  return ds"
   ]
  },
  {
   "cell_type": "code",
   "execution_count": 238,
   "id": "058549f9",
   "metadata": {},
   "outputs": [],
   "source": [
    "test_indices = np.random.rand(len(df)) < 0.10\n",
    "test_indices\n",
    "\n",
    "train_df = df[~test_indices]\n",
    "test_df = df[test_indices]"
   ]
  },
  {
   "cell_type": "code",
   "execution_count": 66,
   "id": "fd3bff81",
   "metadata": {},
   "outputs": [],
   "source": [
    "ds = df_to_dataset(df, 'pos_cnt_per', batch_size=5)"
   ]
  },
  {
   "cell_type": "code",
   "execution_count": 67,
   "id": "cae0deea",
   "metadata": {},
   "outputs": [],
   "source": [
    "# 특성 열을 시험해 보기 위해 샘플 배치를 만듭니다.\n",
    "example_batch = next(iter(ds))[0]"
   ]
  },
  {
   "cell_type": "code",
   "execution_count": 68,
   "id": "de60ef20",
   "metadata": {},
   "outputs": [],
   "source": [
    "# 특성 열을 만들고 배치 데이터를 변환하는 함수\n",
    "def demo(feature_column):\n",
    "    feature_layer = layers.DenseFeatures(feature_column)\n",
    "    \n",
    "    return feature_layer(example_batch).numpy()"
   ]
  },
  {
   "cell_type": "code",
   "execution_count": 170,
   "id": "8d2634ec",
   "metadata": {},
   "outputs": [],
   "source": [
    "rsd = feature_column.numeric_column(\"rsd\")"
   ]
  },
  {
   "cell_type": "code",
   "execution_count": 191,
   "id": "b2de1c40",
   "metadata": {},
   "outputs": [],
   "source": [
    "boundaries = np.array([10,20,30,40,50,60])\n",
    "rsd_buckets = feature_column.bucketized_column(rsd, boundaries=list(boundaries))\n",
    "\n",
    "# print(\"층 지나기 전\",example_batch['rsd'].numpy())\n",
    "# print(\"층 지난 후\",demo(rsd_buckets))\n",
    "rsd_bucs = demo(rsd_buckets)\n",
    "\n",
    "rsds = np.array([])\n",
    "for r in rsd_bucs:\n",
    "    idx = np.where(r == 1)[0]\n",
    "    rsds = np.append(rsds, idx)"
   ]
  },
  {
   "cell_type": "code",
   "execution_count": 192,
   "id": "f325f433",
   "metadata": {},
   "outputs": [],
   "source": [
    "counts = feature_column.numeric_column(\"count\")\n",
    "boundaries = np.array([50,100,150,200,250,300])\n",
    "count_buckets = feature_column.bucketized_column(counts, boundaries=list(boundaries))"
   ]
  },
  {
   "cell_type": "code",
   "execution_count": 248,
   "id": "f4f8fb36",
   "metadata": {},
   "outputs": [
    {
     "ename": "ValueError",
     "evalue": "all the input array dimensions for the concatenation axis must match exactly, but along dimension 0, the array at index 0 has size 588 and the array at index 1 has size 108",
     "output_type": "error",
     "traceback": [
      "\u001b[0;31m---------------------------------------------------------------------------\u001b[0m",
      "\u001b[0;31mValueError\u001b[0m                                Traceback (most recent call last)",
      "\u001b[0;32m/var/folders/52/4yvp7r991px0gmq4wyr894j40000gn/T/ipykernel_38989/1024265461.py\u001b[0m in \u001b[0;36m<module>\u001b[0;34m\u001b[0m\n\u001b[0;32m----> 1\u001b[0;31m \u001b[0mX\u001b[0m \u001b[0;34m=\u001b[0m \u001b[0mnp\u001b[0m\u001b[0;34m.\u001b[0m\u001b[0mappend\u001b[0m\u001b[0;34m(\u001b[0m\u001b[0mX\u001b[0m\u001b[0;34m,\u001b[0m\u001b[0mrsd_bucs\u001b[0m\u001b[0;34m,\u001b[0m \u001b[0maxis\u001b[0m\u001b[0;34m=\u001b[0m\u001b[0;36m1\u001b[0m\u001b[0;34m)\u001b[0m\u001b[0;34m\u001b[0m\u001b[0;34m\u001b[0m\u001b[0m\n\u001b[0m",
      "\u001b[0;32m<__array_function__ internals>\u001b[0m in \u001b[0;36mappend\u001b[0;34m(*args, **kwargs)\u001b[0m\n",
      "\u001b[0;32m~/opt/anaconda3/lib/python3.8/site-packages/numpy/lib/function_base.py\u001b[0m in \u001b[0;36mappend\u001b[0;34m(arr, values, axis)\u001b[0m\n\u001b[1;32m   4743\u001b[0m         \u001b[0mvalues\u001b[0m \u001b[0;34m=\u001b[0m \u001b[0mravel\u001b[0m\u001b[0;34m(\u001b[0m\u001b[0mvalues\u001b[0m\u001b[0;34m)\u001b[0m\u001b[0;34m\u001b[0m\u001b[0;34m\u001b[0m\u001b[0m\n\u001b[1;32m   4744\u001b[0m         \u001b[0maxis\u001b[0m \u001b[0;34m=\u001b[0m \u001b[0marr\u001b[0m\u001b[0;34m.\u001b[0m\u001b[0mndim\u001b[0m\u001b[0;34m-\u001b[0m\u001b[0;36m1\u001b[0m\u001b[0;34m\u001b[0m\u001b[0;34m\u001b[0m\u001b[0m\n\u001b[0;32m-> 4745\u001b[0;31m     \u001b[0;32mreturn\u001b[0m \u001b[0mconcatenate\u001b[0m\u001b[0;34m(\u001b[0m\u001b[0;34m(\u001b[0m\u001b[0marr\u001b[0m\u001b[0;34m,\u001b[0m \u001b[0mvalues\u001b[0m\u001b[0;34m)\u001b[0m\u001b[0;34m,\u001b[0m \u001b[0maxis\u001b[0m\u001b[0;34m=\u001b[0m\u001b[0maxis\u001b[0m\u001b[0;34m)\u001b[0m\u001b[0;34m\u001b[0m\u001b[0;34m\u001b[0m\u001b[0m\n\u001b[0m\u001b[1;32m   4746\u001b[0m \u001b[0;34m\u001b[0m\u001b[0m\n\u001b[1;32m   4747\u001b[0m \u001b[0;34m\u001b[0m\u001b[0m\n",
      "\u001b[0;32m<__array_function__ internals>\u001b[0m in \u001b[0;36mconcatenate\u001b[0;34m(*args, **kwargs)\u001b[0m\n",
      "\u001b[0;31mValueError\u001b[0m: all the input array dimensions for the concatenation axis must match exactly, but along dimension 0, the array at index 0 has size 588 and the array at index 1 has size 108"
     ]
    }
   ],
   "source": [
    "X = np.append(X,rsd_bucs, axis=1)"
   ]
  },
  {
   "cell_type": "code",
   "execution_count": 270,
   "id": "4a3b1d53",
   "metadata": {},
   "outputs": [],
   "source": [
    "X = df[['mean', 'std', 'rsd','public_bill_per']].to_numpy().copy()\n",
    "y = df[['loss_ratio_per']].to_numpy().copy()"
   ]
  },
  {
   "cell_type": "code",
   "execution_count": 271,
   "id": "aee5cc87",
   "metadata": {},
   "outputs": [
    {
     "data": {
      "text/plain": [
       "(108, 7)"
      ]
     },
     "execution_count": 271,
     "metadata": {},
     "output_type": "execute_result"
    }
   ],
   "source": [
    "rsd_bucs.shape"
   ]
  },
  {
   "cell_type": "code",
   "execution_count": 272,
   "id": "ed71aeb2",
   "metadata": {},
   "outputs": [
    {
     "name": "stdout",
     "output_type": "stream",
     "text": [
      "529 59\n"
     ]
    }
   ],
   "source": [
    "wineNames = np.array(['mean', 'std', 'rsd','public_bill_per'])\n",
    "Xtrain, Xtest, ytrain, ytest = train_test_split(X,y, test_size=0.1, random_state=531)\n",
    "print(len(Xtrain), len(Xtest))"
   ]
  },
  {
   "cell_type": "code",
   "execution_count": 273,
   "id": "410c70b9",
   "metadata": {
    "scrolled": true
   },
   "outputs": [
    {
     "name": "stdout",
     "output_type": "stream",
     "text": [
      "MSE\n",
      "[29.71186440677966, 37.8771186440678, 24.092801841389413, 15.201565442561204, 11.181751412429376, 16.055987131198997, 13.486106306929551, 13.494997645951035, 11.783171746762456, 11.658719397363464, 12.219374017525022, 11.189906361163427, 10.27347084322313, 10.909289845881855, 10.258658715212386, 11.056219470927495, 10.413155956965703, 10.703113738346005, 10.952457340198551]\n"
     ]
    }
   ],
   "source": [
    "mseOos = []\n",
    "nTreeList = range(1, 20, 1)\n",
    "\n",
    "for iTrees in nTreeList:\n",
    "    depth = None\n",
    "    maxFeat = 4 #조정해볼 것\n",
    "    wineRFModel = ensemble.RandomForestRegressor(n_estimators=iTrees,\n",
    "                    max_depth=depth, max_features=maxFeat,\n",
    "                    oob_score=False, random_state=531)\n",
    "    wineRFModel.fit(Xtrain, ytrain.ravel())\n",
    "    #데이터 세트에 대한 MSE 누적\n",
    "    prediction = wineRFModel.predict(Xtest)\n",
    "    mseOos.append(mean_squared_error(ytest, prediction))\n",
    "print(\"MSE\")\n",
    "print(mseOos)"
   ]
  },
  {
   "cell_type": "code",
   "execution_count": 274,
   "id": "d6eb242d",
   "metadata": {},
   "outputs": [
    {
     "data": {
      "image/png": "[encoded data removed]",
      "text/plain": [
       "<Figure size 432x288 with 1 Axes>"
      ]
     },
     "metadata": {},
     "output_type": "display_data"
    },
    {
     "data": {
      "image/png": "[encoded data removed]",
      "text/plain": [
       "<Figure size 432x288 with 1 Axes>"
      ]
     },
     "metadata": {},
     "output_type": "display_data"
    }
   ],
   "source": [
    "plot.plot(nTreeList, mseOos)\n",
    "plot.xlabel('Number of Trees in Ensemble')\n",
    "plot.ylabel('Mean Squared Error')\n",
    "#plot.ylim([0.0, 1.1*max(mseOob)])\n",
    "plot.show()\n",
    "\n",
    "#피처 중요도 도표 그리기\n",
    "featureImportance = wineRFModel.feature_importances_\n",
    "\n",
    "#가장 높은 중요도 기준으로 스케일링\n",
    "featureImportance = featureImportance/featureImportance.max()\n",
    "sorted_idx = np.argsort(featureImportance)\n",
    "barPos = np.arange(sorted_idx.shape[0])+.5\n",
    "plot.barh(barPos, featureImportance[sorted_idx], align='center')\n",
    "plot.yticks(barPos, wineNames[sorted_idx])\n",
    "plot.xlabel('Variable Importance')\n",
    "plot.show()"
   ]
  },
  {
   "cell_type": "code",
   "execution_count": null,
   "id": "3c9ff9f0",
   "metadata": {},
   "outputs": [],
   "source": []
  }
 ],
 "metadata": {
  "kernelspec": {
   "display_name": "Python 3 (ipykernel)",
   "language": "python",
   "name": "python3"
  },
  "language_info": {
   "codemirror_mode": {
    "name": "ipython",
    "version": 3
   },
   "file_extension": ".py",
   "mimetype": "text/x-python",
   "name": "python",
   "nbconvert_exporter": "python",
   "pygments_lexer": "ipython3",
   "version": "3.8.12"
  }
 },
 "nbformat": 4,
 "nbformat_minor": 5
}
